{
 "cells": [
  {
   "cell_type": "code",
   "execution_count": 1,
   "id": "80a4b3ae-3b94-45c8-a3c4-471f3a96ef20",
   "metadata": {},
   "outputs": [],
   "source": [
    "# here, __course_price is a private variable.\n",
    "# using '_' means protected variable.\n",
    "# using' __' means it convert it into private variable.\n",
    "# it is not accessable for outsider / user.\n",
    "\n",
    "class pwskills :\n",
    "    def __init__(self, course_price, course_name) :\n",
    "        self.__course_price = course_price\n",
    "        self.course_name = course_name"
   ]
  },
  {
   "cell_type": "code",
   "execution_count": 2,
   "id": "eb60a31e-ed6b-4b64-ad2c-643df02583f1",
   "metadata": {},
   "outputs": [
    {
     "ename": "AttributeError",
     "evalue": "'pwskills' object has no attribute '__course_price'",
     "output_type": "error",
     "traceback": [
      "\u001b[0;31m---------------------------------------------------------------------------\u001b[0m",
      "\u001b[0;31mAttributeError\u001b[0m                            Traceback (most recent call last)",
      "Cell \u001b[0;32mIn[2], line 2\u001b[0m\n\u001b[1;32m      1\u001b[0m pw \u001b[38;5;241m=\u001b[39m pwskills(\u001b[38;5;241m3500\u001b[39m,\u001b[38;5;124m'\u001b[39m\u001b[38;5;124mData Science Masters\u001b[39m\u001b[38;5;124m'\u001b[39m)\n\u001b[0;32m----> 2\u001b[0m \u001b[43mpw\u001b[49m\u001b[38;5;241;43m.\u001b[39;49m\u001b[43m__course_price\u001b[49m\n",
      "\u001b[0;31mAttributeError\u001b[0m: 'pwskills' object has no attribute '__course_price'"
     ]
    }
   ],
   "source": [
    "pw = pwskills(3500,'Data Science Masters')\n",
    "pw.__course_price"
   ]
  },
  {
   "cell_type": "code",
   "execution_count": 3,
   "id": "26a43798-59d2-437a-9691-8bdeac1b7237",
   "metadata": {},
   "outputs": [
    {
     "data": {
      "text/plain": [
       "3500"
      ]
     },
     "execution_count": 3,
     "metadata": {},
     "output_type": "execute_result"
    }
   ],
   "source": [
    "# in this way, I can access private variable.\n",
    "\n",
    "pw._pwskills__course_price"
   ]
  },
  {
   "cell_type": "code",
   "execution_count": 4,
   "id": "c2e7af26-81de-40d6-bdcf-da85140273e3",
   "metadata": {},
   "outputs": [
    {
     "data": {
      "text/plain": [
       "'Data Science Masters'"
      ]
     },
     "execution_count": 4,
     "metadata": {},
     "output_type": "execute_result"
    }
   ],
   "source": [
    "pw.course_name"
   ]
  },
  {
   "cell_type": "code",
   "execution_count": null,
   "id": "defbca55-4681-45c7-9598-ea53b9995444",
   "metadata": {},
   "outputs": [],
   "source": [
    "# now, How I can accessable the private variable to outsider / user ?"
   ]
  },
  {
   "cell_type": "code",
   "execution_count": 5,
   "id": "5a019cba-87d1-464d-953a-310f888c9757",
   "metadata": {},
   "outputs": [],
   "source": [
    "class pwskills :\n",
    "    def __init__(self, course_price, course_name) :\n",
    "        self.__course_price = course_price\n",
    "        self.course_name = course_name\n",
    "        \n",
    "    @property\n",
    "    def course_price_access(self) :\n",
    "        return self.__course_price"
   ]
  },
  {
   "cell_type": "code",
   "execution_count": 6,
   "id": "c3a73d81-c059-45a1-90c0-005e822e759e",
   "metadata": {},
   "outputs": [
    {
     "data": {
      "text/plain": [
       "3500"
      ]
     },
     "execution_count": 6,
     "metadata": {},
     "output_type": "execute_result"
    }
   ],
   "source": [
    "pw = pwskills(3500,'Data Science Masters')\n",
    "pw.course_price_access # this is the way user can access the private variable."
   ]
  },
  {
   "cell_type": "code",
   "execution_count": null,
   "id": "17bc3fe5-b40b-4445-800d-389d1f6ad369",
   "metadata": {},
   "outputs": [],
   "source": [
    "# now user want to modify the private variable. How ?"
   ]
  },
  {
   "cell_type": "code",
   "execution_count": 7,
   "id": "1f07a531-ded9-4ae5-8ec4-8ebc42d339c4",
   "metadata": {},
   "outputs": [],
   "source": [
    "class pwskills :\n",
    "    def __init__(self, course_price, course_name) :\n",
    "        self.__course_price = course_price\n",
    "        self.course_name = course_name\n",
    "        \n",
    "    @property\n",
    "    def course_price_access(self) :\n",
    "        return self.__course_price\n",
    "    \n",
    "    @course_price_access.setter\n",
    "    def course_price_set(self, price) :\n",
    "        if price <= 3500 :\n",
    "            pass\n",
    "        else :\n",
    "            self.__course_price = price"
   ]
  },
  {
   "cell_type": "code",
   "execution_count": 8,
   "id": "19c13f43-4289-4243-9538-b4dce40a79ee",
   "metadata": {},
   "outputs": [
    {
     "data": {
      "text/plain": [
       "3500"
      ]
     },
     "execution_count": 8,
     "metadata": {},
     "output_type": "execute_result"
    }
   ],
   "source": [
    "pw = pwskills(3500,'Data Science Masters')\n",
    "pw.course_price_access"
   ]
  },
  {
   "cell_type": "code",
   "execution_count": 9,
   "id": "da3250ae-bab6-4d9d-aea9-835a8720e3a8",
   "metadata": {},
   "outputs": [
    {
     "data": {
      "text/plain": [
       "4500"
      ]
     },
     "execution_count": 9,
     "metadata": {},
     "output_type": "execute_result"
    }
   ],
   "source": [
    "pw.course_price_set = 4500\n",
    "pw.course_price_access"
   ]
  },
  {
   "cell_type": "code",
   "execution_count": 10,
   "id": "1594df20-99bd-426c-83f7-9385c4578a8e",
   "metadata": {},
   "outputs": [
    {
     "data": {
      "text/plain": [
       "4500"
      ]
     },
     "execution_count": 10,
     "metadata": {},
     "output_type": "execute_result"
    }
   ],
   "source": [
    "pw.course_price_set = 2500\n",
    "pw.course_price_access"
   ]
  },
  {
   "cell_type": "code",
   "execution_count": 15,
   "id": "0f473432-9963-44ec-bed8-2192f252ed66",
   "metadata": {},
   "outputs": [],
   "source": [
    "# now I want to delete one variable :\n",
    "\n",
    "class pwskills :\n",
    "    def __init__(self, course_price, course_name) :\n",
    "        self.__course_price = course_price\n",
    "        self.course_name = course_name\n",
    "        \n",
    "    @property\n",
    "    def course_price_access(self) :\n",
    "        return self.__course_price\n",
    "    \n",
    "    @course_price_access.setter\n",
    "    def course_price_set(self, price) :\n",
    "        if price <= 3500 :\n",
    "            pass\n",
    "        else :\n",
    "            self.__course_price = price\n",
    "            \n",
    "    @course_price_access.deleter\n",
    "    def delete_course_price(self) :\n",
    "        del self.__course_price"
   ]
  },
  {
   "cell_type": "code",
   "execution_count": 16,
   "id": "ea912680-0c1c-4b3b-8075-d7cfd828c47b",
   "metadata": {},
   "outputs": [],
   "source": [
    "pw = pwskills(3500, 'Data Science Masters')"
   ]
  },
  {
   "cell_type": "code",
   "execution_count": 17,
   "id": "6a428812-5b4b-4ffe-89b4-82811913173a",
   "metadata": {},
   "outputs": [
    {
     "data": {
      "text/plain": [
       "3500"
      ]
     },
     "execution_count": 17,
     "metadata": {},
     "output_type": "execute_result"
    }
   ],
   "source": [
    "pw.course_price_access"
   ]
  },
  {
   "cell_type": "code",
   "execution_count": 19,
   "id": "96d53042-2073-40e7-abbe-115cb20f8ae9",
   "metadata": {},
   "outputs": [],
   "source": [
    "del pw.delete_course_price"
   ]
  },
  {
   "cell_type": "code",
   "execution_count": 21,
   "id": "06a95310-2ce8-41f8-af92-319a4daeefb9",
   "metadata": {},
   "outputs": [
    {
     "ename": "AttributeError",
     "evalue": "'pwskills' object has no attribute '_pwskills__course_price'",
     "output_type": "error",
     "traceback": [
      "\u001b[0;31m---------------------------------------------------------------------------\u001b[0m",
      "\u001b[0;31mAttributeError\u001b[0m                            Traceback (most recent call last)",
      "Cell \u001b[0;32mIn[21], line 1\u001b[0m\n\u001b[0;32m----> 1\u001b[0m \u001b[43mpw\u001b[49m\u001b[38;5;241;43m.\u001b[39;49m\u001b[43mcourse_price_access\u001b[49m\n",
      "Cell \u001b[0;32mIn[15], line 10\u001b[0m, in \u001b[0;36mpwskills.course_price_access\u001b[0;34m(self)\u001b[0m\n\u001b[1;32m      8\u001b[0m \u001b[38;5;129m@property\u001b[39m\n\u001b[1;32m      9\u001b[0m \u001b[38;5;28;01mdef\u001b[39;00m \u001b[38;5;21mcourse_price_access\u001b[39m(\u001b[38;5;28mself\u001b[39m) :\n\u001b[0;32m---> 10\u001b[0m     \u001b[38;5;28;01mreturn\u001b[39;00m \u001b[38;5;28;43mself\u001b[39;49m\u001b[38;5;241;43m.\u001b[39;49m\u001b[43m__course_price\u001b[49m\n",
      "\u001b[0;31mAttributeError\u001b[0m: 'pwskills' object has no attribute '_pwskills__course_price'"
     ]
    }
   ],
   "source": [
    "pw.course_price_access"
   ]
  },
  {
   "cell_type": "code",
   "execution_count": 32,
   "id": "e9aedba2-39bd-4d7c-b71c-69a74672424b",
   "metadata": {},
   "outputs": [],
   "source": [
    "class Country :\n",
    "    def __init__(self, name, area) :\n",
    "        self.name = name\n",
    "        self.__area = area"
   ]
  },
  {
   "cell_type": "code",
   "execution_count": 33,
   "id": "b94c878a-4e64-486e-a675-721ac42e50d3",
   "metadata": {},
   "outputs": [
    {
     "data": {
      "text/plain": [
       "'India'"
      ]
     },
     "execution_count": 33,
     "metadata": {},
     "output_type": "execute_result"
    }
   ],
   "source": [
    "c = Country('India',99)\n",
    "c.name"
   ]
  },
  {
   "cell_type": "code",
   "execution_count": 34,
   "id": "2631f0a3-f109-46f1-89be-150bdfdffeca",
   "metadata": {},
   "outputs": [
    {
     "ename": "AttributeError",
     "evalue": "'Country' object has no attribute '__area'",
     "output_type": "error",
     "traceback": [
      "\u001b[0;31m---------------------------------------------------------------------------\u001b[0m",
      "\u001b[0;31mAttributeError\u001b[0m                            Traceback (most recent call last)",
      "Cell \u001b[0;32mIn[34], line 1\u001b[0m\n\u001b[0;32m----> 1\u001b[0m \u001b[43mc\u001b[49m\u001b[38;5;241;43m.\u001b[39;49m\u001b[43m__area\u001b[49m\n",
      "\u001b[0;31mAttributeError\u001b[0m: 'Country' object has no attribute '__area'"
     ]
    }
   ],
   "source": [
    "c.__area"
   ]
  },
  {
   "cell_type": "code",
   "execution_count": 35,
   "id": "399a69e5-7a16-4b0c-a80c-10c575bcb856",
   "metadata": {},
   "outputs": [],
   "source": [
    "class Country :\n",
    "    def __init__(self, name, area) :\n",
    "        self.name = name\n",
    "        self.__area = area\n",
    "        \n",
    "    @property\n",
    "    def area_access(self) :\n",
    "        return self.__area"
   ]
  },
  {
   "cell_type": "code",
   "execution_count": 36,
   "id": "2103fe81-b293-4c66-b315-082c89fcfafc",
   "metadata": {},
   "outputs": [
    {
     "data": {
      "text/plain": [
       "99"
      ]
     },
     "execution_count": 36,
     "metadata": {},
     "output_type": "execute_result"
    }
   ],
   "source": [
    "c = Country('India',99)\n",
    "c.area_access"
   ]
  },
  {
   "cell_type": "code",
   "execution_count": 37,
   "id": "2d790c65-124a-49ba-a7aa-4e01da605b7c",
   "metadata": {},
   "outputs": [],
   "source": [
    "class Country :\n",
    "    def __init__(self, name, area) :\n",
    "        self.name = name\n",
    "        self.__area = area\n",
    "        \n",
    "    @property\n",
    "    def area_access(self) :\n",
    "        return self.__area\n",
    "    \n",
    "    @area_access.setter\n",
    "    def area_access_modify(self, area) :\n",
    "        if area <= 499 :\n",
    "            pass\n",
    "        else :\n",
    "            self.__area = area"
   ]
  },
  {
   "cell_type": "code",
   "execution_count": 38,
   "id": "72f69c5c-721b-400b-8e37-1f48998ff104",
   "metadata": {},
   "outputs": [],
   "source": [
    "c = Country('India',99)"
   ]
  },
  {
   "cell_type": "code",
   "execution_count": 39,
   "id": "a6ea061b-4bdd-4c7a-9fe6-e4b877e294bb",
   "metadata": {},
   "outputs": [
    {
     "data": {
      "text/plain": [
       "99"
      ]
     },
     "execution_count": 39,
     "metadata": {},
     "output_type": "execute_result"
    }
   ],
   "source": [
    "c.area_access"
   ]
  },
  {
   "cell_type": "code",
   "execution_count": 41,
   "id": "94e3353e-6b7a-4147-859a-1122f3d160dc",
   "metadata": {},
   "outputs": [
    {
     "data": {
      "text/plain": [
       "1000"
      ]
     },
     "execution_count": 41,
     "metadata": {},
     "output_type": "execute_result"
    }
   ],
   "source": [
    "c.area_access_modify = 1000\n",
    "c.area_access"
   ]
  },
  {
   "cell_type": "code",
   "execution_count": 42,
   "id": "ee575106-1632-4753-b434-3062b78c419d",
   "metadata": {},
   "outputs": [
    {
     "data": {
      "text/plain": [
       "1000"
      ]
     },
     "execution_count": 42,
     "metadata": {},
     "output_type": "execute_result"
    }
   ],
   "source": [
    "c.area_access_modify = 50\n",
    "c.area_access"
   ]
  },
  {
   "cell_type": "code",
   "execution_count": 43,
   "id": "728f1667-dded-443c-9ec1-531a28be329d",
   "metadata": {},
   "outputs": [],
   "source": [
    "class Country :\n",
    "    def __init__(self, name, area) :\n",
    "        self.name = name\n",
    "        self.__area = area\n",
    "        \n",
    "    @property\n",
    "    def area_access(self) :\n",
    "        return self.__area\n",
    "    \n",
    "    @area_access.setter\n",
    "    def area_access_modify(self, area) :\n",
    "        if area <= 499 :\n",
    "            pass\n",
    "        else :\n",
    "            self.__area = area\n",
    "            \n",
    "    @area_access.deleter\n",
    "    def area_access_delete(self) :\n",
    "        del self.__area"
   ]
  },
  {
   "cell_type": "code",
   "execution_count": 44,
   "id": "36bde669-b170-4990-9084-b252e8b400d7",
   "metadata": {},
   "outputs": [
    {
     "data": {
      "text/plain": [
       "99"
      ]
     },
     "execution_count": 44,
     "metadata": {},
     "output_type": "execute_result"
    }
   ],
   "source": [
    "c = Country('India',99)\n",
    "c.area_access"
   ]
  },
  {
   "cell_type": "code",
   "execution_count": 45,
   "id": "e05275dd-7495-4a5e-b250-76e501eccbc7",
   "metadata": {},
   "outputs": [],
   "source": [
    "del c.area_access_delete"
   ]
  },
  {
   "cell_type": "code",
   "execution_count": 46,
   "id": "851c7c22-339b-41f3-8dbe-8628956c92eb",
   "metadata": {},
   "outputs": [
    {
     "ename": "AttributeError",
     "evalue": "'Country' object has no attribute '_Country__area'",
     "output_type": "error",
     "traceback": [
      "\u001b[0;31m---------------------------------------------------------------------------\u001b[0m",
      "\u001b[0;31mAttributeError\u001b[0m                            Traceback (most recent call last)",
      "Cell \u001b[0;32mIn[46], line 1\u001b[0m\n\u001b[0;32m----> 1\u001b[0m \u001b[43mc\u001b[49m\u001b[38;5;241;43m.\u001b[39;49m\u001b[43marea_access\u001b[49m\n",
      "Cell \u001b[0;32mIn[43], line 8\u001b[0m, in \u001b[0;36mCountry.area_access\u001b[0;34m(self)\u001b[0m\n\u001b[1;32m      6\u001b[0m \u001b[38;5;129m@property\u001b[39m\n\u001b[1;32m      7\u001b[0m \u001b[38;5;28;01mdef\u001b[39;00m \u001b[38;5;21marea_access\u001b[39m(\u001b[38;5;28mself\u001b[39m) :\n\u001b[0;32m----> 8\u001b[0m     \u001b[38;5;28;01mreturn\u001b[39;00m \u001b[38;5;28;43mself\u001b[39;49m\u001b[38;5;241;43m.\u001b[39;49m\u001b[43m__area\u001b[49m\n",
      "\u001b[0;31mAttributeError\u001b[0m: 'Country' object has no attribute '_Country__area'"
     ]
    }
   ],
   "source": [
    "c.area_access"
   ]
  },
  {
   "cell_type": "code",
   "execution_count": 47,
   "id": "6d619071-569c-4a83-a60d-67621f19af9a",
   "metadata": {},
   "outputs": [],
   "source": [
    "class Company :\n",
    "    def __init__(self, Company_name, Company_employee) :\n",
    "        self.Company_name = Company_name\n",
    "        self.__Company_employee = Company_employee"
   ]
  },
  {
   "cell_type": "code",
   "execution_count": 48,
   "id": "90f64c9b-e670-4474-a708-083ca88a54b4",
   "metadata": {},
   "outputs": [
    {
     "data": {
      "text/plain": [
       "'RAK company'"
      ]
     },
     "execution_count": 48,
     "metadata": {},
     "output_type": "execute_result"
    }
   ],
   "source": [
    "c = Company('RAK company', 499)\n",
    "c.Company_name"
   ]
  },
  {
   "cell_type": "code",
   "execution_count": 50,
   "id": "e087b4da-7299-4113-af35-0deb8dcf6495",
   "metadata": {},
   "outputs": [
    {
     "ename": "AttributeError",
     "evalue": "'Company' object has no attribute 'Company_employee'",
     "output_type": "error",
     "traceback": [
      "\u001b[0;31m---------------------------------------------------------------------------\u001b[0m",
      "\u001b[0;31mAttributeError\u001b[0m                            Traceback (most recent call last)",
      "Cell \u001b[0;32mIn[50], line 1\u001b[0m\n\u001b[0;32m----> 1\u001b[0m \u001b[43mc\u001b[49m\u001b[38;5;241;43m.\u001b[39;49m\u001b[43mCompany_employee\u001b[49m\n",
      "\u001b[0;31mAttributeError\u001b[0m: 'Company' object has no attribute 'Company_employee'"
     ]
    }
   ],
   "source": [
    "c.Company_employee"
   ]
  },
  {
   "cell_type": "code",
   "execution_count": 51,
   "id": "11a75da5-f4d2-49c9-b152-fbf8ff3d531a",
   "metadata": {},
   "outputs": [
    {
     "data": {
      "text/plain": [
       "499"
      ]
     },
     "execution_count": 51,
     "metadata": {},
     "output_type": "execute_result"
    }
   ],
   "source": [
    "c._Company__Company_employee # one way to access private variable"
   ]
  },
  {
   "cell_type": "code",
   "execution_count": 52,
   "id": "828d816e-c6c8-4085-aaba-42cdbf4269bc",
   "metadata": {},
   "outputs": [],
   "source": [
    "# another way to access private variable\n",
    "\n",
    "class Company :\n",
    "    def __init__(self, Company_name, Company_employee) :\n",
    "        self.Company_name = Company_name\n",
    "        self.__Company_employee = Company_employee\n",
    "        \n",
    "    @property\n",
    "    def Company_employee_access(self) :\n",
    "        return self.__Company_employee"
   ]
  },
  {
   "cell_type": "code",
   "execution_count": 53,
   "id": "54efb431-91fb-4a1b-bd76-14ddc5e92576",
   "metadata": {},
   "outputs": [
    {
     "data": {
      "text/plain": [
       "499"
      ]
     },
     "execution_count": 53,
     "metadata": {},
     "output_type": "execute_result"
    }
   ],
   "source": [
    "c = Company('RAK company', 499)\n",
    "c.Company_employee_access"
   ]
  },
  {
   "cell_type": "code",
   "execution_count": 62,
   "id": "1f6bfd1f-0f2f-4b3d-8ee1-2a7a483b1ab2",
   "metadata": {},
   "outputs": [],
   "source": [
    "# want to modify accessable private variable\n",
    "\n",
    "class Company :\n",
    "    def __init__(self, Company_name, Company_employee) :\n",
    "        self.Company_name = Company_name\n",
    "        self.__Company_employee = Company_employee\n",
    "        \n",
    "    @property\n",
    "    def Company_employee_access(self) :\n",
    "        return self.__Company_employee\n",
    "    \n",
    "    @Company_employee_access.setter\n",
    "    def Company_employee_modify(self, employee_num) :\n",
    "        if employee_num <= 500 :\n",
    "            pass\n",
    "        else :\n",
    "            self.__Company_employee = employee_num"
   ]
  },
  {
   "cell_type": "code",
   "execution_count": 63,
   "id": "e2dd0dcc-b314-4e45-8a58-2cf4abc05158",
   "metadata": {},
   "outputs": [
    {
     "data": {
      "text/plain": [
       "600"
      ]
     },
     "execution_count": 63,
     "metadata": {},
     "output_type": "execute_result"
    }
   ],
   "source": [
    "c = Company('RAK company', 600)\n",
    "c.Company_employee_modify"
   ]
  },
  {
   "cell_type": "code",
   "execution_count": 64,
   "id": "67f18f21-5ce6-4d09-a586-da81d36b6e78",
   "metadata": {},
   "outputs": [
    {
     "data": {
      "text/plain": [
       "100"
      ]
     },
     "execution_count": 64,
     "metadata": {},
     "output_type": "execute_result"
    }
   ],
   "source": [
    "c = Company('RAK company', 100)\n",
    "c.Company_employee_modify"
   ]
  },
  {
   "cell_type": "code",
   "execution_count": 65,
   "id": "dc9fa979-39b6-4250-ac6b-360f190d32dd",
   "metadata": {},
   "outputs": [
    {
     "data": {
      "text/plain": [
       "10000"
      ]
     },
     "execution_count": 65,
     "metadata": {},
     "output_type": "execute_result"
    }
   ],
   "source": [
    "c = Company('RAK company', 10000)\n",
    "c.Company_employee_modify"
   ]
  },
  {
   "cell_type": "code",
   "execution_count": 66,
   "id": "dd7c98f2-9817-463c-8281-310915e9d928",
   "metadata": {},
   "outputs": [],
   "source": [
    "# want to delete accessable private variable\n",
    "\n",
    "class Company :\n",
    "    def __init__(self, Company_name, Company_employee) :\n",
    "        self.Company_name = Company_name\n",
    "        self.__Company_employee = Company_employee\n",
    "        \n",
    "    @property\n",
    "    def Company_employee_access(self) :\n",
    "        return self.__Company_employee\n",
    "    \n",
    "    @Company_employee_access.setter\n",
    "    def Company_employee_modify(self, employee_num) :\n",
    "        if employee_num <= 500 :\n",
    "            pass\n",
    "        else :\n",
    "            self.__Company_employee = employee_num\n",
    "            \n",
    "    @Company_employee_access.deleter\n",
    "    def Company_employee_delete(self) :\n",
    "        del self.__Company_employee"
   ]
  },
  {
   "cell_type": "code",
   "execution_count": 67,
   "id": "73dbae23-a08b-48d8-820c-019ca4eafc47",
   "metadata": {},
   "outputs": [
    {
     "data": {
      "text/plain": [
       "600"
      ]
     },
     "execution_count": 67,
     "metadata": {},
     "output_type": "execute_result"
    }
   ],
   "source": [
    "c = Company('RAK company', 600)\n",
    "c.Company_employee_access"
   ]
  },
  {
   "cell_type": "code",
   "execution_count": 68,
   "id": "3cba52e0-d389-4c50-8c3d-27ac6bdc7157",
   "metadata": {},
   "outputs": [],
   "source": [
    "del c.Company_employee_delete"
   ]
  },
  {
   "cell_type": "code",
   "execution_count": 69,
   "id": "0f7b7082-fe66-4e72-85dd-7f57de850291",
   "metadata": {},
   "outputs": [
    {
     "ename": "AttributeError",
     "evalue": "'Company' object has no attribute '_Company__Company_employee'",
     "output_type": "error",
     "traceback": [
      "\u001b[0;31m---------------------------------------------------------------------------\u001b[0m",
      "\u001b[0;31mAttributeError\u001b[0m                            Traceback (most recent call last)",
      "Cell \u001b[0;32mIn[69], line 1\u001b[0m\n\u001b[0;32m----> 1\u001b[0m \u001b[43mc\u001b[49m\u001b[38;5;241;43m.\u001b[39;49m\u001b[43mCompany_employee_access\u001b[49m\n",
      "Cell \u001b[0;32mIn[66], line 10\u001b[0m, in \u001b[0;36mCompany.Company_employee_access\u001b[0;34m(self)\u001b[0m\n\u001b[1;32m      8\u001b[0m \u001b[38;5;129m@property\u001b[39m\n\u001b[1;32m      9\u001b[0m \u001b[38;5;28;01mdef\u001b[39;00m \u001b[38;5;21mCompany_employee_access\u001b[39m(\u001b[38;5;28mself\u001b[39m) :\n\u001b[0;32m---> 10\u001b[0m     \u001b[38;5;28;01mreturn\u001b[39;00m \u001b[38;5;28;43mself\u001b[39;49m\u001b[38;5;241;43m.\u001b[39;49m\u001b[43m__Company_employee\u001b[49m\n",
      "\u001b[0;31mAttributeError\u001b[0m: 'Company' object has no attribute '_Company__Company_employee'"
     ]
    }
   ],
   "source": [
    "c.Company_employee_access"
   ]
  },
  {
   "cell_type": "code",
   "execution_count": null,
   "id": "79398dd8-a39c-4ca4-a013-5296c3ba96a6",
   "metadata": {},
   "outputs": [],
   "source": []
  }
 ],
 "metadata": {
  "kernelspec": {
   "display_name": "Python 3 (ipykernel)",
   "language": "python",
   "name": "python3"
  },
  "language_info": {
   "codemirror_mode": {
    "name": "ipython",
    "version": 3
   },
   "file_extension": ".py",
   "mimetype": "text/x-python",
   "name": "python",
   "nbconvert_exporter": "python",
   "pygments_lexer": "ipython3",
   "version": "3.10.8"
  }
 },
 "nbformat": 4,
 "nbformat_minor": 5
}
